{
 "cells": [
  {
   "cell_type": "code",
   "execution_count": 2,
   "metadata": {},
   "outputs": [],
   "source": [
    "import pandas as pd\n",
    "import numpy as np\n",
    "import sqlite3\n",
    "import json\n",
    "import yaml\n",
    "import requests\n",
    "from requests.exceptions import HTTPError"
   ]
  },
  {
   "cell_type": "code",
   "execution_count": 3,
   "metadata": {},
   "outputs": [],
   "source": [
    "with open(r'config.yaml') as file:\n",
    "    config = yaml.load(file, Loader=yaml.FullLoader)\n",
    "\n",
    "url_discogs_api = \"https://api.discogs.com\""
   ]
  },
  {
   "cell_type": "code",
   "execution_count": 4,
   "metadata": {},
   "outputs": [],
   "source": [
    "try:\n",
    "    query = {'page': 1, 'per_page': 100}\n",
    "    url_request = url_discogs_api + \"/users/\" + config[\"discogs_user\"] + \"/collection/folders/0/releases\"\n",
    "    response = requests.get(url_request, params=query)\n",
    "    response.raise_for_status()\n",
    "    # access JSOn content\n",
    "    jsonResponse = response.json()\n",
    "except HTTPError as http_err:\n",
    "    print(f'HTTP error occurred: {http_err}')\n",
    "except Exception as err:\n",
    "    print(f'Other error occurred: {err}')\n",
    "\n",
    "no_pages = jsonResponse[\"pagination\"][\"pages\"]"
   ]
  },
  {
   "cell_type": "code",
   "execution_count": null,
   "metadata": {},
   "outputs": [],
   "source": [
    "collection_items = []\n",
    "for i in range(1, no_pages + 1):\n",
    "    query = {'page': i, 'per_page': 100}\n",
    "    url_request = url_discogs_api + \"/users/\" + config[\"discogs_user\"] + \"/collection/folders/0/releases\"\n",
    "    print(requests.get(url_request, params=query))\n",
    "    response = requests.get(url_request, params=query)\n",
    "    print(jsonResponse[\"releases\"])\n",
    "    collection_items.append(jsonResponse[\"releases\"])"
   ]
  }
 ],
 "metadata": {
  "interpreter": {
   "hash": "3558e3aafdbe66434011f64fa5440c21bbe86f46be9aba93e97f3a20048e15ed"
  },
  "kernelspec": {
   "display_name": "Python 3.10.2 ('discogs_collection_value')",
   "language": "python",
   "name": "python3"
  },
  "language_info": {
   "codemirror_mode": {
    "name": "ipython",
    "version": 3
   },
   "file_extension": ".py",
   "mimetype": "text/x-python",
   "name": "python",
   "nbconvert_exporter": "python",
   "pygments_lexer": "ipython3",
   "version": "3.10.2"
  },
  "orig_nbformat": 4
 },
 "nbformat": 4,
 "nbformat_minor": 2
}
