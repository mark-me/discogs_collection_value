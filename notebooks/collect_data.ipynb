{
 "cells": [
  {
   "cell_type": "markdown",
   "metadata": {},
   "source": [
    "# Collection value evolution"
   ]
  },
  {
   "cell_type": "markdown",
   "metadata": {},
   "source": [
    "Libs"
   ]
  },
  {
   "cell_type": "code",
   "execution_count": 1,
   "metadata": {},
   "outputs": [],
   "source": [
    "import datetime as dt\n",
    "import json\n",
    "import numpy as np\n",
    "import pandas as pd\n",
    "import requests\n",
    "import sqlite3\n",
    "import yaml\n",
    "from requests.exceptions import HTTPError\n",
    "import time"
   ]
  },
  {
   "cell_type": "markdown",
   "metadata": {},
   "source": [
    "Configuration file"
   ]
  },
  {
   "cell_type": "code",
   "execution_count": 2,
   "metadata": {},
   "outputs": [],
   "source": [
    "with open(r'../config.yaml') as file:\n",
    "    config = yaml.load(file, Loader=yaml.FullLoader)\n",
    "\n",
    "url_discogs_api = \"https://api.discogs.com\""
   ]
  },
  {
   "cell_type": "markdown",
   "metadata": {},
   "source": [
    "## Retrieve the collection items"
   ]
  },
  {
   "cell_type": "markdown",
   "metadata": {},
   "source": [
    "Get number of pages of collection items"
   ]
  },
  {
   "cell_type": "code",
   "execution_count": 3,
   "metadata": {},
   "outputs": [],
   "source": [
    "try:\n",
    "    query = {'page': 1, 'per_page': 100}\n",
    "    url_request = url_discogs_api + \"/users/\" + config[\"discogs_user\"] + \"/collection/folders/0/releases\"\n",
    "    response = requests.get(url_request, params=query)\n",
    "    response.raise_for_status()\n",
    "    jsonResponse = response.json()\n",
    "except HTTPError as http_err:\n",
    "    print(f'HTTP error occurred: {http_err}')\n",
    "except Exception as err:\n",
    "    print(f'Other error occurred: {err}')\n",
    "\n",
    "no_pages = jsonResponse[\"pagination\"][\"pages\"] # * 50"
   ]
  },
  {
   "cell_type": "markdown",
   "metadata": {},
   "source": [
    "Get the collection items"
   ]
  },
  {
   "cell_type": "code",
   "execution_count": 4,
   "metadata": {},
   "outputs": [],
   "source": [
    "collection_items = []\n",
    "for i in range(1, no_pages + 1):\n",
    "    try:\n",
    "        query = {'page': i, 'per_page': 100}\n",
    "        url_request = url_discogs_api + \"/users/\" + config[\"discogs_user\"] + \"/collection/folders/0/releases\"\n",
    "        response = requests.get(url_request, params=query)\n",
    "        jsonResponse = response.json()\n",
    "        collection_items.append(pd.json_normalize(jsonResponse[\"releases\"]))\n",
    "    except HTTPError as http_err:\n",
    "        print(f'HTTP error occurred: {http_err}')\n",
    "    except Exception as err:\n",
    "        print(f'Other error occurred: {err}')\n",
    "\n",
    "df_collection = pd.concat(collection_items, ignore_index=True)"
   ]
  },
  {
   "cell_type": "markdown",
   "metadata": {},
   "source": [
    "Subselection of columns"
   ]
  },
  {
   "cell_type": "code",
   "execution_count": 6,
   "metadata": {},
   "outputs": [],
   "source": [
    "selected_columns = df_collection.columns[~df_collection.columns.isin([ \"basic_information.thumb\", \"basic_information.cover_image\",\\\n",
    "     \"basic_information.artists\", \"basic_information.labels\", \"basic_information.formats\"])]\n",
    "df_collection = df_collection[selected_columns]"
   ]
  },
  {
   "cell_type": "markdown",
   "metadata": {},
   "source": [
    "Write stuff to sqlite db"
   ]
  },
  {
   "cell_type": "code",
   "execution_count": 7,
   "metadata": {},
   "outputs": [],
   "source": [
    "db = sqlite3.connect(\"test.db\")\n",
    "df_collection[[\"id\", \"instance_id\", \"date_added\"]].to_sql(name=\"collection\", con=db, if_exists='replace')\n",
    "db.close()"
   ]
  },
  {
   "cell_type": "markdown",
   "metadata": {},
   "source": [
    "## Retrieve marketplace values"
   ]
  },
  {
   "cell_type": "code",
   "execution_count": 18,
   "metadata": {},
   "outputs": [],
   "source": [
    "query = {'curr_abbr': 'EUR'}\n",
    "\n",
    "collection_items_value = []\n",
    "for i in df_collection.index:\n",
    "    url_request = url_discogs_api + \"/marketplace/stats/\" + str(df_collection['id'][i])\n",
    "    try:\n",
    "        response = requests.get(url_request, params=query)\n",
    "        response.raise_for_status()\n",
    "\n",
    "        df_item = pd.json_normalize(response.json())\n",
    "        df_item['id'] = str(df_collection['id'][i])\n",
    "        df_item['time_value_retrieved'] = dt.datetime.now()\n",
    "        df_item = df_item.loc[:, df_item.columns != 'lowest_price']\n",
    "        collection_items_value.append(df_item)\n",
    "\n",
    "    except HTTPError as http_err:\n",
    "        if response.status_code == 429:\n",
    "            time.sleep(60)\n",
    "    except Exception as err:\n",
    "        print(f'Other error occurred: {err}')\n",
    "        \n",
    "df_collection_value = pd.concat(collection_items_value, ignore_index=True)"
   ]
  },
  {
   "cell_type": "code",
   "execution_count": 16,
   "metadata": {},
   "outputs": [
    {
     "data": {
      "text/html": [
       "<div>\n",
       "<style scoped>\n",
       "    .dataframe tbody tr th:only-of-type {\n",
       "        vertical-align: middle;\n",
       "    }\n",
       "\n",
       "    .dataframe tbody tr th {\n",
       "        vertical-align: top;\n",
       "    }\n",
       "\n",
       "    .dataframe thead th {\n",
       "        text-align: right;\n",
       "    }\n",
       "</style>\n",
       "<table border=\"1\" class=\"dataframe\">\n",
       "  <thead>\n",
       "    <tr style=\"text-align: right;\">\n",
       "      <th></th>\n",
       "      <th>num_for_sale</th>\n",
       "      <th>blocked_from_sale</th>\n",
       "      <th>lowest_price.value</th>\n",
       "      <th>lowest_price.currency</th>\n",
       "      <th>id</th>\n",
       "      <th>time_value_retrieved</th>\n",
       "    </tr>\n",
       "  </thead>\n",
       "  <tbody>\n",
       "    <tr>\n",
       "      <th>0</th>\n",
       "      <td>3</td>\n",
       "      <td>False</td>\n",
       "      <td>65.00</td>\n",
       "      <td>EUR</td>\n",
       "      <td>9438069</td>\n",
       "      <td>2022-04-09 22:07:35.286609</td>\n",
       "    </tr>\n",
       "    <tr>\n",
       "      <th>1</th>\n",
       "      <td>27</td>\n",
       "      <td>False</td>\n",
       "      <td>15.00</td>\n",
       "      <td>EUR</td>\n",
       "      <td>9331164</td>\n",
       "      <td>2022-04-09 22:07:35.836057</td>\n",
       "    </tr>\n",
       "    <tr>\n",
       "      <th>2</th>\n",
       "      <td>5</td>\n",
       "      <td>False</td>\n",
       "      <td>4.99</td>\n",
       "      <td>EUR</td>\n",
       "      <td>6239920</td>\n",
       "      <td>2022-04-09 22:07:36.383411</td>\n",
       "    </tr>\n",
       "    <tr>\n",
       "      <th>3</th>\n",
       "      <td>1</td>\n",
       "      <td>False</td>\n",
       "      <td>34.99</td>\n",
       "      <td>EUR</td>\n",
       "      <td>1965832</td>\n",
       "      <td>2022-04-09 22:07:36.940612</td>\n",
       "    </tr>\n",
       "    <tr>\n",
       "      <th>4</th>\n",
       "      <td>12</td>\n",
       "      <td>False</td>\n",
       "      <td>27.47</td>\n",
       "      <td>EUR</td>\n",
       "      <td>403287</td>\n",
       "      <td>2022-04-09 22:07:37.536488</td>\n",
       "    </tr>\n",
       "  </tbody>\n",
       "</table>\n",
       "</div>"
      ],
      "text/plain": [
       "   num_for_sale  blocked_from_sale  lowest_price.value lowest_price.currency  \\\n",
       "0             3              False               65.00                   EUR   \n",
       "1            27              False               15.00                   EUR   \n",
       "2             5              False                4.99                   EUR   \n",
       "3             1              False               34.99                   EUR   \n",
       "4            12              False               27.47                   EUR   \n",
       "\n",
       "        id       time_value_retrieved  \n",
       "0  9438069 2022-04-09 22:07:35.286609  \n",
       "1  9331164 2022-04-09 22:07:35.836057  \n",
       "2  6239920 2022-04-09 22:07:36.383411  \n",
       "3  1965832 2022-04-09 22:07:36.940612  \n",
       "4   403287 2022-04-09 22:07:37.536488  "
      ]
     },
     "execution_count": 16,
     "metadata": {},
     "output_type": "execute_result"
    }
   ],
   "source": [
    "df_collection_value.head()"
   ]
  },
  {
   "cell_type": "markdown",
   "metadata": {},
   "source": [
    "Add to database"
   ]
  },
  {
   "cell_type": "code",
   "execution_count": 22,
   "metadata": {},
   "outputs": [],
   "source": [
    "db = sqlite3.connect(\"test.db\")\n",
    "df_collection_value.to_sql(name=\"collection_value\", con=db, if_exists='append')\n",
    "db.close()"
   ]
  }
 ],
 "metadata": {
  "interpreter": {
   "hash": "3558e3aafdbe66434011f64fa5440c21bbe86f46be9aba93e97f3a20048e15ed"
  },
  "kernelspec": {
   "display_name": "Python 3.10.2 ('discogs_collection_value')",
   "language": "python",
   "name": "python3"
  },
  "language_info": {
   "codemirror_mode": {
    "name": "ipython",
    "version": 3
   },
   "file_extension": ".py",
   "mimetype": "text/x-python",
   "name": "python",
   "nbconvert_exporter": "python",
   "pygments_lexer": "ipython3",
   "version": "3.10.2"
  },
  "orig_nbformat": 4
 },
 "nbformat": 4,
 "nbformat_minor": 2
}
