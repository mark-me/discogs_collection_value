{
 "cells": [
  {
   "cell_type": "markdown",
   "metadata": {},
   "source": [
    "# Collection value evolution"
   ]
  },
  {
   "cell_type": "markdown",
   "metadata": {},
   "source": [
    "Libs"
   ]
  },
  {
   "cell_type": "code",
   "execution_count": 1,
   "metadata": {},
   "outputs": [],
   "source": [
    "import datetime as dt\n",
    "import json\n",
    "import numpy as np\n",
    "import pandas as pd\n",
    "import requests\n",
    "import sqlite3\n",
    "import yaml\n",
    "from requests.exceptions import HTTPError\n",
    "import time"
   ]
  },
  {
   "cell_type": "markdown",
   "metadata": {},
   "source": [
    "Configuration file"
   ]
  },
  {
   "cell_type": "code",
   "execution_count": 2,
   "metadata": {},
   "outputs": [],
   "source": [
    "with open(r'../config.yaml') as file:\n",
    "    config = yaml.load(file, Loader=yaml.FullLoader)\n",
    "\n",
    "url_discogs_api = \"https://api.discogs.com\""
   ]
  },
  {
   "cell_type": "markdown",
   "metadata": {},
   "source": [
    "## Retrieve the collection items"
   ]
  },
  {
   "cell_type": "markdown",
   "metadata": {},
   "source": [
    "Get number of pages of collection items"
   ]
  },
  {
   "cell_type": "code",
   "execution_count": 3,
   "metadata": {},
   "outputs": [],
   "source": [
    "try:\n",
    "    query = {'page': 1, 'per_page': 100}\n",
    "    url_request = url_discogs_api + \"/users/\" + config[\"discogs_user\"] + \"/collection/folders/0/releases\"\n",
    "    response = requests.get(url_request, params=query)\n",
    "    response.raise_for_status()\n",
    "    jsonResponse = response.json()\n",
    "except HTTPError as http_err:\n",
    "    print(f'HTTP error occurred: {http_err}')\n",
    "except Exception as err:\n",
    "    print(f'Other error occurred: {err}')\n",
    "\n",
    "no_pages = jsonResponse[\"pagination\"][\"pages\"] # * 50"
   ]
  },
  {
   "cell_type": "markdown",
   "metadata": {},
   "source": [
    "Get the collection items"
   ]
  },
  {
   "cell_type": "code",
   "execution_count": 4,
   "metadata": {},
   "outputs": [],
   "source": [
    "collection_items = []\n",
    "for i in range(1, no_pages + 1):\n",
    "    try:\n",
    "        query = {'page': i, 'per_page': 100}\n",
    "        url_request = url_discogs_api + \"/users/\" + config[\"discogs_user\"] + \"/collection/folders/0/releases\"\n",
    "        response = requests.get(url_request, params=query)\n",
    "        jsonResponse = response.json()\n",
    "        collection_items.append(pd.json_normalize(jsonResponse[\"releases\"]))\n",
    "    except HTTPError as http_err:\n",
    "        print(f'HTTP error occurred: {http_err}')\n",
    "    except Exception as err:\n",
    "        print(f'Other error occurred: {err}')\n",
    "\n",
    "df_collection = pd.concat(collection_items, ignore_index=True)"
   ]
  },
  {
   "cell_type": "code",
   "execution_count": 5,
   "metadata": {},
   "outputs": [
    {
     "data": {
      "text/html": [
       "<div>\n",
       "<style scoped>\n",
       "    .dataframe tbody tr th:only-of-type {\n",
       "        vertical-align: middle;\n",
       "    }\n",
       "\n",
       "    .dataframe tbody tr th {\n",
       "        vertical-align: top;\n",
       "    }\n",
       "\n",
       "    .dataframe thead th {\n",
       "        text-align: right;\n",
       "    }\n",
       "</style>\n",
       "<table border=\"1\" class=\"dataframe\">\n",
       "  <thead>\n",
       "    <tr style=\"text-align: right;\">\n",
       "      <th></th>\n",
       "      <th>id</th>\n",
       "      <th>instance_id</th>\n",
       "      <th>date_added</th>\n",
       "      <th>rating</th>\n",
       "      <th>basic_information.id</th>\n",
       "      <th>basic_information.master_id</th>\n",
       "      <th>basic_information.master_url</th>\n",
       "      <th>basic_information.resource_url</th>\n",
       "      <th>basic_information.thumb</th>\n",
       "      <th>basic_information.cover_image</th>\n",
       "      <th>basic_information.title</th>\n",
       "      <th>basic_information.year</th>\n",
       "      <th>basic_information.formats</th>\n",
       "      <th>basic_information.labels</th>\n",
       "      <th>basic_information.artists</th>\n",
       "      <th>basic_information.genres</th>\n",
       "      <th>basic_information.styles</th>\n",
       "    </tr>\n",
       "  </thead>\n",
       "  <tbody>\n",
       "    <tr>\n",
       "      <th>0</th>\n",
       "      <td>9438069</td>\n",
       "      <td>470722404</td>\n",
       "      <td>2020-05-16T20:50:48-07:00</td>\n",
       "      <td>0</td>\n",
       "      <td>9438069</td>\n",
       "      <td>417099</td>\n",
       "      <td>https://api.discogs.com/masters/417099</td>\n",
       "      <td>https://api.discogs.com/releases/9438069</td>\n",
       "      <td></td>\n",
       "      <td></td>\n",
       "      <td>Passenger</td>\n",
       "      <td>2016</td>\n",
       "      <td>[{'name': 'Vinyl', 'qty': '1', 'descriptions':...</td>\n",
       "      <td>[{'name': '[PIAS]', 'catno': 'LHLP002', 'entit...</td>\n",
       "      <td>[{'name': 'Lisa Hannigan', 'anv': '', 'join': ...</td>\n",
       "      <td>[Pop, Folk, World, &amp; Country]</td>\n",
       "      <td>[Folk]</td>\n",
       "    </tr>\n",
       "    <tr>\n",
       "      <th>1</th>\n",
       "      <td>9331164</td>\n",
       "      <td>877584547</td>\n",
       "      <td>2021-12-09T03:03:16-08:00</td>\n",
       "      <td>0</td>\n",
       "      <td>9331164</td>\n",
       "      <td>60848</td>\n",
       "      <td>https://api.discogs.com/masters/60848</td>\n",
       "      <td>https://api.discogs.com/releases/9331164</td>\n",
       "      <td></td>\n",
       "      <td></td>\n",
       "      <td>Sunset Mission</td>\n",
       "      <td>2016</td>\n",
       "      <td>[{'name': 'Vinyl', 'qty': '2', 'descriptions':...</td>\n",
       "      <td>[{'name': '[PIAS]', 'catno': 'PIASD5013LP', 'e...</td>\n",
       "      <td>[{'name': 'Bohren &amp; Der Club Of Gore', 'anv': ...</td>\n",
       "      <td>[Electronic, Jazz]</td>\n",
       "      <td>[Dark Jazz]</td>\n",
       "    </tr>\n",
       "    <tr>\n",
       "      <th>2</th>\n",
       "      <td>6239920</td>\n",
       "      <td>739755133</td>\n",
       "      <td>2021-06-24T16:19:33-07:00</td>\n",
       "      <td>0</td>\n",
       "      <td>6239920</td>\n",
       "      <td>281597</td>\n",
       "      <td>https://api.discogs.com/masters/281597</td>\n",
       "      <td>https://api.discogs.com/releases/6239920</td>\n",
       "      <td></td>\n",
       "      <td></td>\n",
       "      <td>Burma Shave</td>\n",
       "      <td>2008</td>\n",
       "      <td>[{'name': 'DVD', 'qty': '1', 'text': '4:3', 'd...</td>\n",
       "      <td>[{'name': '3rd story production', 'catno': 'MC...</td>\n",
       "      <td>[{'name': 'Tom Waits', 'anv': '', 'join': '', ...</td>\n",
       "      <td>[Rock, Blues]</td>\n",
       "      <td>[]</td>\n",
       "    </tr>\n",
       "    <tr>\n",
       "      <th>3</th>\n",
       "      <td>1965832</td>\n",
       "      <td>470725568</td>\n",
       "      <td>2020-05-16T21:00:19-07:00</td>\n",
       "      <td>0</td>\n",
       "      <td>1965832</td>\n",
       "      <td>20096</td>\n",
       "      <td>https://api.discogs.com/masters/20096</td>\n",
       "      <td>https://api.discogs.com/releases/1965832</td>\n",
       "      <td></td>\n",
       "      <td></td>\n",
       "      <td>The Bad Seed</td>\n",
       "      <td>1983</td>\n",
       "      <td>[{'name': 'Vinyl', 'qty': '1', 'descriptions':...</td>\n",
       "      <td>[{'name': '4AD', 'catno': '151.102', 'entity_t...</td>\n",
       "      <td>[{'name': 'The Birthday Party', 'anv': '', 'jo...</td>\n",
       "      <td>[Electronic, Rock]</td>\n",
       "      <td>[New Wave, Punk, Darkwave]</td>\n",
       "    </tr>\n",
       "    <tr>\n",
       "      <th>4</th>\n",
       "      <td>403287</td>\n",
       "      <td>472111882</td>\n",
       "      <td>2020-05-20T19:39:29-07:00</td>\n",
       "      <td>5</td>\n",
       "      <td>403287</td>\n",
       "      <td>20838</td>\n",
       "      <td>https://api.discogs.com/masters/20838</td>\n",
       "      <td>https://api.discogs.com/releases/403287</td>\n",
       "      <td></td>\n",
       "      <td></td>\n",
       "      <td>Red Heaven</td>\n",
       "      <td>1992</td>\n",
       "      <td>[{'name': 'Vinyl', 'qty': '1', 'descriptions':...</td>\n",
       "      <td>[{'name': '4AD', 'catno': 'CAD 2013', 'entity_...</td>\n",
       "      <td>[{'name': 'Throwing Muses', 'anv': '', 'join':...</td>\n",
       "      <td>[Rock]</td>\n",
       "      <td>[Indie Rock, Alternative Rock]</td>\n",
       "    </tr>\n",
       "  </tbody>\n",
       "</table>\n",
       "</div>"
      ],
      "text/plain": [
       "        id  instance_id                 date_added  rating  \\\n",
       "0  9438069    470722404  2020-05-16T20:50:48-07:00       0   \n",
       "1  9331164    877584547  2021-12-09T03:03:16-08:00       0   \n",
       "2  6239920    739755133  2021-06-24T16:19:33-07:00       0   \n",
       "3  1965832    470725568  2020-05-16T21:00:19-07:00       0   \n",
       "4   403287    472111882  2020-05-20T19:39:29-07:00       5   \n",
       "\n",
       "   basic_information.id  basic_information.master_id  \\\n",
       "0               9438069                       417099   \n",
       "1               9331164                        60848   \n",
       "2               6239920                       281597   \n",
       "3               1965832                        20096   \n",
       "4                403287                        20838   \n",
       "\n",
       "             basic_information.master_url  \\\n",
       "0  https://api.discogs.com/masters/417099   \n",
       "1   https://api.discogs.com/masters/60848   \n",
       "2  https://api.discogs.com/masters/281597   \n",
       "3   https://api.discogs.com/masters/20096   \n",
       "4   https://api.discogs.com/masters/20838   \n",
       "\n",
       "             basic_information.resource_url basic_information.thumb  \\\n",
       "0  https://api.discogs.com/releases/9438069                           \n",
       "1  https://api.discogs.com/releases/9331164                           \n",
       "2  https://api.discogs.com/releases/6239920                           \n",
       "3  https://api.discogs.com/releases/1965832                           \n",
       "4   https://api.discogs.com/releases/403287                           \n",
       "\n",
       "  basic_information.cover_image basic_information.title  \\\n",
       "0                                            Passenger    \n",
       "1                                        Sunset Mission   \n",
       "2                                           Burma Shave   \n",
       "3                                          The Bad Seed   \n",
       "4                                            Red Heaven   \n",
       "\n",
       "   basic_information.year                          basic_information.formats  \\\n",
       "0                    2016  [{'name': 'Vinyl', 'qty': '1', 'descriptions':...   \n",
       "1                    2016  [{'name': 'Vinyl', 'qty': '2', 'descriptions':...   \n",
       "2                    2008  [{'name': 'DVD', 'qty': '1', 'text': '4:3', 'd...   \n",
       "3                    1983  [{'name': 'Vinyl', 'qty': '1', 'descriptions':...   \n",
       "4                    1992  [{'name': 'Vinyl', 'qty': '1', 'descriptions':...   \n",
       "\n",
       "                            basic_information.labels  \\\n",
       "0  [{'name': '[PIAS]', 'catno': 'LHLP002', 'entit...   \n",
       "1  [{'name': '[PIAS]', 'catno': 'PIASD5013LP', 'e...   \n",
       "2  [{'name': '3rd story production', 'catno': 'MC...   \n",
       "3  [{'name': '4AD', 'catno': '151.102', 'entity_t...   \n",
       "4  [{'name': '4AD', 'catno': 'CAD 2013', 'entity_...   \n",
       "\n",
       "                           basic_information.artists  \\\n",
       "0  [{'name': 'Lisa Hannigan', 'anv': '', 'join': ...   \n",
       "1  [{'name': 'Bohren & Der Club Of Gore', 'anv': ...   \n",
       "2  [{'name': 'Tom Waits', 'anv': '', 'join': '', ...   \n",
       "3  [{'name': 'The Birthday Party', 'anv': '', 'jo...   \n",
       "4  [{'name': 'Throwing Muses', 'anv': '', 'join':...   \n",
       "\n",
       "        basic_information.genres        basic_information.styles  \n",
       "0  [Pop, Folk, World, & Country]                          [Folk]  \n",
       "1             [Electronic, Jazz]                     [Dark Jazz]  \n",
       "2                  [Rock, Blues]                              []  \n",
       "3             [Electronic, Rock]      [New Wave, Punk, Darkwave]  \n",
       "4                         [Rock]  [Indie Rock, Alternative Rock]  "
      ]
     },
     "execution_count": 5,
     "metadata": {},
     "output_type": "execute_result"
    }
   ],
   "source": [
    "df_collection.head()"
   ]
  },
  {
   "cell_type": "markdown",
   "metadata": {},
   "source": [
    "Subselection of columns"
   ]
  },
  {
   "cell_type": "code",
   "execution_count": 6,
   "metadata": {},
   "outputs": [],
   "source": [
    "selected_columns = df_collection.columns[~df_collection.columns.isin([ \"basic_information.thumb\", \"basic_information.cover_image\",\\\n",
    "     \"basic_information.artists\", \"basic_information.labels\", \"basic_information.formats\", \"basic_information.genres\", \"basic_information.styles\"])]\n",
    "df_collection = df_collection[selected_columns]"
   ]
  },
  {
   "cell_type": "markdown",
   "metadata": {},
   "source": [
    "Write stuff to sqlite db"
   ]
  },
  {
   "cell_type": "code",
   "execution_count": 7,
   "metadata": {},
   "outputs": [],
   "source": [
    "db = sqlite3.connect(\"test.db\")\n",
    "df_collection.to_sql(name=\"collection\", con=db, if_exists='replace')\n",
    "db.close()"
   ]
  },
  {
   "cell_type": "markdown",
   "metadata": {},
   "source": [
    "## Retrieve marketplace values"
   ]
  },
  {
   "cell_type": "code",
   "execution_count": 8,
   "metadata": {},
   "outputs": [],
   "source": [
    "query = {'curr_abbr': 'EUR', 'token': config['discogs_token']}\n",
    "\n",
    "collection_items_value = []\n",
    "for i in df_collection.index:\n",
    "    url_request = url_discogs_api + \"/marketplace/stats/\" + str(df_collection['id'][i])\n",
    "    try:\n",
    "        response = requests.get(url_request, params=query)\n",
    "        response.raise_for_status()\n",
    "\n",
    "        df_item = pd.json_normalize(response.json())\n",
    "        df_item['id'] = str(df_collection['id'][i])\n",
    "        df_item['time_value_retrieved'] = dt.datetime.now()\n",
    "        df_item = df_item.loc[:, df_item.columns != 'lowest_price']\n",
    "        collection_items_value.append(df_item)\n",
    "\n",
    "    except HTTPError as http_err:\n",
    "        if response.status_code == 429:\n",
    "            time.sleep(60)\n",
    "    except Exception as err:\n",
    "        print(f'Other error occurred: {err}')\n",
    "        \n",
    "df_collection_value = pd.concat(collection_items_value, ignore_index=True)"
   ]
  },
  {
   "cell_type": "code",
   "execution_count": 9,
   "metadata": {},
   "outputs": [
    {
     "data": {
      "text/html": [
       "<div>\n",
       "<style scoped>\n",
       "    .dataframe tbody tr th:only-of-type {\n",
       "        vertical-align: middle;\n",
       "    }\n",
       "\n",
       "    .dataframe tbody tr th {\n",
       "        vertical-align: top;\n",
       "    }\n",
       "\n",
       "    .dataframe thead th {\n",
       "        text-align: right;\n",
       "    }\n",
       "</style>\n",
       "<table border=\"1\" class=\"dataframe\">\n",
       "  <thead>\n",
       "    <tr style=\"text-align: right;\">\n",
       "      <th></th>\n",
       "      <th>num_for_sale</th>\n",
       "      <th>blocked_from_sale</th>\n",
       "      <th>lowest_price.value</th>\n",
       "      <th>lowest_price.currency</th>\n",
       "      <th>id</th>\n",
       "      <th>time_value_retrieved</th>\n",
       "    </tr>\n",
       "  </thead>\n",
       "  <tbody>\n",
       "    <tr>\n",
       "      <th>0</th>\n",
       "      <td>3</td>\n",
       "      <td>False</td>\n",
       "      <td>65.00</td>\n",
       "      <td>EUR</td>\n",
       "      <td>9438069</td>\n",
       "      <td>2022-04-14 19:12:56.915346</td>\n",
       "    </tr>\n",
       "    <tr>\n",
       "      <th>1</th>\n",
       "      <td>27</td>\n",
       "      <td>False</td>\n",
       "      <td>15.00</td>\n",
       "      <td>EUR</td>\n",
       "      <td>9331164</td>\n",
       "      <td>2022-04-14 19:12:57.275265</td>\n",
       "    </tr>\n",
       "    <tr>\n",
       "      <th>2</th>\n",
       "      <td>5</td>\n",
       "      <td>False</td>\n",
       "      <td>4.99</td>\n",
       "      <td>EUR</td>\n",
       "      <td>6239920</td>\n",
       "      <td>2022-04-14 19:12:58.059549</td>\n",
       "    </tr>\n",
       "    <tr>\n",
       "      <th>3</th>\n",
       "      <td>1</td>\n",
       "      <td>False</td>\n",
       "      <td>34.99</td>\n",
       "      <td>EUR</td>\n",
       "      <td>1965832</td>\n",
       "      <td>2022-04-14 19:12:58.420637</td>\n",
       "    </tr>\n",
       "    <tr>\n",
       "      <th>4</th>\n",
       "      <td>11</td>\n",
       "      <td>False</td>\n",
       "      <td>27.71</td>\n",
       "      <td>EUR</td>\n",
       "      <td>403287</td>\n",
       "      <td>2022-04-14 19:12:58.793269</td>\n",
       "    </tr>\n",
       "  </tbody>\n",
       "</table>\n",
       "</div>"
      ],
      "text/plain": [
       "  num_for_sale  blocked_from_sale  lowest_price.value lowest_price.currency  \\\n",
       "0            3              False               65.00                   EUR   \n",
       "1           27              False               15.00                   EUR   \n",
       "2            5              False                4.99                   EUR   \n",
       "3            1              False               34.99                   EUR   \n",
       "4           11              False               27.71                   EUR   \n",
       "\n",
       "        id       time_value_retrieved  \n",
       "0  9438069 2022-04-14 19:12:56.915346  \n",
       "1  9331164 2022-04-14 19:12:57.275265  \n",
       "2  6239920 2022-04-14 19:12:58.059549  \n",
       "3  1965832 2022-04-14 19:12:58.420637  \n",
       "4   403287 2022-04-14 19:12:58.793269  "
      ]
     },
     "execution_count": 9,
     "metadata": {},
     "output_type": "execute_result"
    }
   ],
   "source": [
    "df_collection_value.head()"
   ]
  },
  {
   "cell_type": "markdown",
   "metadata": {},
   "source": [
    "Add to database"
   ]
  },
  {
   "cell_type": "code",
   "execution_count": 10,
   "metadata": {},
   "outputs": [],
   "source": [
    "db = sqlite3.connect(\"test.db\")\n",
    "df_collection_value.to_sql(name=\"collection_value\", con=db, if_exists='append')\n",
    "db.close()"
   ]
  },
  {
   "cell_type": "markdown",
   "metadata": {},
   "source": [
    "## Retrieve release statistics"
   ]
  },
  {
   "cell_type": "code",
   "execution_count": null,
   "metadata": {},
   "outputs": [],
   "source": [
    "query = {'token': config['discogs_token']}\n",
    "\n",
    "collection_items_stats = []\n",
    "for i in df_collection.index:\n",
    "    url_request = url_discogs_api + \"/releases/\" + str(df_collection['id'][i])\n",
    "    try:\n",
    "        response = requests.get(url_request, params=query)\n",
    "        response.raise_for_status()\n",
    "\n",
    "        df_item = pd.json_normalize(response.json())\n",
    "        df_item['id'] = str(df_collection['id'][i])\n",
    "        df_item['time_value_retrieved'] = dt.datetime.now()\n",
    "        df_item.head()\n",
    "        collection_items_stats.append(df_item)\n",
    "\n",
    "    except HTTPError as http_err:\n",
    "        if response.status_code == 429:\n",
    "            time.sleep(60)\n",
    "    except Exception as err:\n",
    "        print(f'Other error occurred: {err}')\n",
    "        \n",
    "df_collection_stats = pd.concat(collection_items_stats, ignore_index=True)"
   ]
  },
  {
   "cell_type": "code",
   "execution_count": null,
   "metadata": {},
   "outputs": [],
   "source": [
    "df_collection_stats.head()"
   ]
  },
  {
   "cell_type": "markdown",
   "metadata": {},
   "source": [
    "Add to database"
   ]
  },
  {
   "cell_type": "code",
   "execution_count": null,
   "metadata": {},
   "outputs": [],
   "source": [
    "db = sqlite3.connect(\"test.db\")\n",
    "df_collection_stats.to_sql(name=\"collection_stats\", con=db, if_exists='append')\n",
    "db.close()"
   ]
  }
 ],
 "metadata": {
  "interpreter": {
   "hash": "3558e3aafdbe66434011f64fa5440c21bbe86f46be9aba93e97f3a20048e15ed"
  },
  "kernelspec": {
   "display_name": "Python 3.10.2 ('discogs_collection_value')",
   "language": "python",
   "name": "python3"
  },
  "language_info": {
   "codemirror_mode": {
    "name": "ipython",
    "version": 3
   },
   "file_extension": ".py",
   "mimetype": "text/x-python",
   "name": "python",
   "nbconvert_exporter": "python",
   "pygments_lexer": "ipython3",
   "version": "3.10.2"
  },
  "orig_nbformat": 4
 },
 "nbformat": 4,
 "nbformat_minor": 2
}
